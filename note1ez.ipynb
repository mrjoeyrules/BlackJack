{
 "cells": [
  {
   "cell_type": "markdown",
   "id": "4dcaeb72",
   "metadata": {
    "papermill": {
     "duration": 0.002537,
     "end_time": "2022-10-03T16:44:10.384117",
     "exception": false,
     "start_time": "2022-10-03T16:44:10.381580",
     "status": "completed"
    },
    "tags": []
   },
   "source": [
    "This is my first lab Jupyter notebook"
   ]
  },
  {
   "cell_type": "code",
   "execution_count": 1,
   "id": "17f8cbbe",
   "metadata": {
    "execution": {
     "iopub.execute_input": "2022-10-03T16:44:10.392234Z",
     "iopub.status.busy": "2022-10-03T16:44:10.391442Z",
     "iopub.status.idle": "2022-10-03T16:44:10.405131Z",
     "shell.execute_reply": "2022-10-03T16:44:10.403870Z"
    },
    "papermill": {
     "duration": 0.019757,
     "end_time": "2022-10-03T16:44:10.407744",
     "exception": false,
     "start_time": "2022-10-03T16:44:10.387987",
     "status": "completed"
    },
    "tags": []
   },
   "outputs": [
    {
     "name": "stdout",
     "output_type": "stream",
     "text": [
      "13\n",
      "H\n",
      "llo\n",
      "Hello, World!\n",
      "HELLO, WORLD!\n",
      "hello, world!\n",
      "Jello, World!\n",
      "My name is John, and I am 36\n"
     ]
    }
   ],
   "source": [
    "firststring = \"Hello, World!\"\n",
    "firststringext =\" Hello, World! \"\n",
    "lengthofString = len(firststring)\n",
    "print(lengthofString)\n",
    "firstChar = firststring[0]\n",
    "print(firstChar)\n",
    "print(firststring[2:5])\n",
    "print(firststringext.strip())\n",
    "print(firststring.upper())\n",
    "print(firststring.lower())\n",
    "print(firststring.replace(\"H\",\"J\"))\n",
    "age = 36\n",
    "txt = \"My name is John, and I am {}\"\n",
    "print(txt.format(age))"
   ]
  }
 ],
 "metadata": {
  "kernelspec": {
   "display_name": "Python 3",
   "language": "python",
   "name": "python3"
  },
  "language_info": {
   "codemirror_mode": {
    "name": "ipython",
    "version": 3
   },
   "file_extension": ".py",
   "mimetype": "text/x-python",
   "name": "python",
   "nbconvert_exporter": "python",
   "pygments_lexer": "ipython3",
   "version": "3.7.12"
  },
  "papermill": {
   "default_parameters": {},
   "duration": 9.92169,
   "end_time": "2022-10-03T16:44:11.035947",
   "environment_variables": {},
   "exception": null,
   "input_path": "__notebook__.ipynb",
   "output_path": "__notebook__.ipynb",
   "parameters": {},
   "start_time": "2022-10-03T16:44:01.114257",
   "version": "2.3.4"
  }
 },
 "nbformat": 4,
 "nbformat_minor": 5
}
