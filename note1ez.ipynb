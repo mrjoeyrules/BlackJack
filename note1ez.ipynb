{
 "cells": [
  {
   "cell_type": "code",
   "execution_count": null,
   "id": "2bbe9ed7",
   "metadata": {
    "papermill": {
     "duration": 0.002707,
     "end_time": "2022-10-03T16:33:25.134774",
     "exception": false,
     "start_time": "2022-10-03T16:33:25.132067",
     "status": "completed"
    },
    "tags": []
   },
   "outputs": [],
   "source": []
  },
  {
   "cell_type": "markdown",
   "id": "adf34a00",
   "metadata": {
    "papermill": {
     "duration": 0.001309,
     "end_time": "2022-10-03T16:33:25.137888",
     "exception": false,
     "start_time": "2022-10-03T16:33:25.136579",
     "status": "completed"
    },
    "tags": []
   },
   "source": [
    "This is my first lab Jupyter notebook"
   ]
  },
  {
   "cell_type": "code",
   "execution_count": 1,
   "id": "02282ebc",
   "metadata": {
    "execution": {
     "iopub.execute_input": "2022-10-03T16:33:25.143050Z",
     "iopub.status.busy": "2022-10-03T16:33:25.142575Z",
     "iopub.status.idle": "2022-10-03T16:33:25.153727Z",
     "shell.execute_reply": "2022-10-03T16:33:25.152625Z"
    },
    "papermill": {
     "duration": 0.016819,
     "end_time": "2022-10-03T16:33:25.156214",
     "exception": false,
     "start_time": "2022-10-03T16:33:25.139395",
     "status": "completed"
    },
    "tags": []
   },
   "outputs": [
    {
     "name": "stdout",
     "output_type": "stream",
     "text": [
      "Hello, World!\n"
     ]
    }
   ],
   "source": [
    "print(\"Hello, World!\")"
   ]
  }
 ],
 "metadata": {
  "kernelspec": {
   "display_name": "Python 3",
   "language": "python",
   "name": "python3"
  },
  "language_info": {
   "codemirror_mode": {
    "name": "ipython",
    "version": 3
   },
   "file_extension": ".py",
   "mimetype": "text/x-python",
   "name": "python",
   "nbconvert_exporter": "python",
   "pygments_lexer": "ipython3",
   "version": "3.7.12"
  },
  "papermill": {
   "default_parameters": {},
   "duration": 9.418177,
   "end_time": "2022-10-03T16:33:25.778876",
   "environment_variables": {},
   "exception": null,
   "input_path": "__notebook__.ipynb",
   "output_path": "__notebook__.ipynb",
   "parameters": {},
   "start_time": "2022-10-03T16:33:16.360699",
   "version": "2.3.4"
  }
 },
 "nbformat": 4,
 "nbformat_minor": 5
}
